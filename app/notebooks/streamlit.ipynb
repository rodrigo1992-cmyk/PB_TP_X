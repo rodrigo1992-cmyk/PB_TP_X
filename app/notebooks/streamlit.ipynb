{
 "cells": [
  {
   "cell_type": "markdown",
   "metadata": {},
   "source": [
    "Streamlit run app\\app.py --server.port=8087 --browser.serverAddress='177.192.12.238' \n",
    "http://localhost:8087/"
   ]
  },
  {
   "cell_type": "code",
   "execution_count": null,
   "metadata": {},
   "outputs": [],
   "source": [
    "%%writefile 'C:\\Users\\RodrigoPintoMesquita\\Documents\\Ambientes\\PB_TP1\\app\\app.py'\n",
    "\n",
    "import streamlit as st\n",
    "import pandas as pd\n",
    "\n",
    "st.title(\"Radar de Vagas DS\")\n",
    "st.write(\"**Escopo**: Ao consolidar e analisar as competências requisitadas por cada empresa, o projeto apoia a inserção de profissionais no mercado de trabalho, contribuindo para a geração de empregos e o desenvolvimento de uma força de trabalho com qualificação alinhada ao mercado. Isso não só ajuda os profissionais a encontrar melhores oportunidades de trabalho, mas também fortalece a economia ao atender à demanda das empresas por talentos qualificados. Este visa atender à ODS 8 (Trabalho Decente e Crescimento Econômico).\")\n",
    "st.write(\"\"\"\n",
    "**Objetivos**: Desenvolver uma aplicação web que consolide anúncios de vagas de cientista de dados no LinkedIn, analisando as competências e funções mais solicitadas por nível de vaga.\n",
    "* Coletar dados de anúncios de vagas de cientista de dados no LinkedIn.\n",
    "* Utilizar modelo LLM para analisar descrições de vagas e identificar competências e funções especificadas.\n",
    "* Desenvolver visualizações em Streamlit para apresentar os resultados.\n",
    "* Oferecer insights para candidatos, recrutadores e instituições de ensino sobre tendências de mercado.\n",
    "\"\"\")\n",
    "\n",
    "st.write(\"Acesse este link para visualizar a página de onde serão coletados os dados, já com exemplo de filtro. (https://www.linkedin.com/jobs/search?keywords=Cientista%20De%20Dados&location=Rio%20de%20Janeiro%2C%20Rio%20de%20Janeiro%2C%20Brasil&geoId=106701406&distance=0&f_TPR=&position=1&pageNum=0)\")\n",
    "st.write(\"Link para uma inspiração visual (https://www.behance.net/gallery/198960873/Job-finder-dashboard?tracking_source=search_projects|job+dashboard&l=2)\")\n",
    "st.write(\"Abaixo, segue um exemplo/amostra dos dados que serão coletados:\")\n",
    "\n",
    "df = pd.read_csv('app\\data\\processed\\Exemplo_Amostra_Dados.csv')\n",
    "st.dataframe(df)"
   ]
  }
 ],
 "metadata": {
  "kernelspec": {
   "display_name": ".venv",
   "language": "python",
   "name": "python3"
  },
  "language_info": {
   "name": "python",
   "version": "3.12.4"
  }
 },
 "nbformat": 4,
 "nbformat_minor": 2
}
