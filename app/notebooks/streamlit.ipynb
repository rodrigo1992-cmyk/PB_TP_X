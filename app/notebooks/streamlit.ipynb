{
 "cells": [
  {
   "cell_type": "markdown",
   "metadata": {},
   "source": [
    "Streamlit run app\\streamlit\\app.py --server.port=8087 --browser.serverAddress='177.192.12.238' \n",
    "http://localhost:8087/"
   ]
  },
  {
   "cell_type": "code",
   "execution_count": 50,
   "metadata": {},
   "outputs": [
    {
     "name": "stdout",
     "output_type": "stream",
     "text": [
      "Overwriting C:\\Users\\RodrigoPintoMesquita\\Documents\\GitHub\\PB_TP_X\\app\\streamlit\\app.py\n"
     ]
    }
   ],
   "source": [
    "%%writefile 'C:\\Users\\RodrigoPintoMesquita\\Documents\\GitHub\\PB_TP_X\\app\\streamlit\\app.py'\n",
    "\n",
    "import streamlit as st\n",
    "import pandas as pd\n",
    "from utils import *\n",
    "\n",
    "st.set_page_config(layout=\"wide\")\n",
    "\n",
    "#-------------Define caminho dos arquivos----------------\n",
    "path_vagas = r'app\\data\\processed\\vagas_norm.csv'\n",
    "\n",
    "\n",
    "\n",
    "#-------------Importa todos os DFs necessários----------------\n",
    "df_vagas = import_df_vagas(path_vagas)\n",
    "\n",
    "\n",
    "\n",
    "\n",
    "#-------------Cria as variáveis necessárias para os filtros----------------\n",
    "lista_vagas_perfis = sorted(df_vagas['perfil_vaga'].unique().tolist())\n",
    "lista_vagas_perfis.insert(0, 'Selecione')\n",
    "\n",
    "lista_nivel = sorted(df_vagas['nivel_cargo'].unique().tolist())\n",
    "lista_nivel.insert(0, 'Selecione')\n",
    "\n",
    "lista_estado = sorted(df_vagas['estado'].unique().tolist())\n",
    "lista_estado.insert(0, 'Selecione')\n",
    "\n",
    "lista_empresa = sorted(df_vagas['empresa_contratante'].unique().tolist())\n",
    "lista_empresa.insert(0, 'Selecione')\n",
    "\n",
    "\n",
    "\n",
    "#-------------Cria a Barra de Filtros Lateral----------------\n",
    "st.sidebar.header('Navegação')\n",
    "page = st.sidebar.selectbox(\"\",[\"page_a\", \"page_b\"])\n",
    "\n",
    "st.sidebar.header('Filtros')\n",
    "filtros_barra_lateral(lista_vagas_perfis, lista_nivel, lista_estado, lista_empresa)\n",
    "\n",
    "\n",
    "#-------------Inicializa a página selecionada----------------\n",
    "if page == \"page_a\":\n",
    "    import page_a\n",
    "    page_a.exibir()\n",
    "elif page == \"Análise de Jogadores\":\n",
    "    import page_b\n",
    "    page_b.exibir()"
   ]
  },
  {
   "cell_type": "code",
   "execution_count": 13,
   "metadata": {},
   "outputs": [
    {
     "name": "stdout",
     "output_type": "stream",
     "text": [
      "Overwriting C:\\Users\\RodrigoPintoMesquita\\Documents\\GitHub\\PB_TP_X\\app\\streamlit\\page_a.py\n"
     ]
    }
   ],
   "source": [
    "%%writefile 'C:\\Users\\RodrigoPintoMesquita\\Documents\\GitHub\\PB_TP_X\\app\\streamlit\\page_a.py'\n",
    "\n",
    "import streamlit as st\n",
    "import pandas as pd\n",
    "from utils import *\n",
    "\n",
    "def exibir():\n",
    "    st.title(\"Radar de Vagas DS\")\n",
    "    st.write(\"**Escopo**: Ao consolidar e analisar as competências requisitadas por cada empresa, o projeto apoia a inserção de profissionais no mercado de trabalho, contribuindo para a geração de empregos e o desenvolvimento de uma força de trabalho com qualificação alinhada ao mercado. Isso não só ajuda os profissionais a encontrar melhores oportunidades de trabalho, mas também fortalece a economia ao atender à demanda das empresas por talentos qualificados. Este visa atender à ODS 8 (Trabalho Decente e Crescimento Econômico).\")\n",
    "    st.write(\"\"\"\n",
    "    **Objetivos**: Desenvolver uma aplicação web que consolide anúncios de vagas de cientista de dados no LinkedIn, analisando as competências e funções mais solicitadas por nível de vaga.\n",
    "    * Coletar dados de anúncios de vagas de cientista de dados no LinkedIn.\n",
    "    * Utilizar modelo LLM para analisar descrições de vagas e identificar competências e funções especificadas.\n",
    "    * Desenvolver visualizações em Streamlit para apresentar os resultados.\n",
    "    * Oferecer insights para candidatos, recrutadores e instituições de ensino sobre tendências de mercado.\n",
    "    \"\"\")\n",
    "\n",
    "    st.write(\"Acesse este link para visualizar a página de onde serão coletados os dados, já com exemplo de filtro. (https://www.linkedin.com/jobs/search?keywords=Cientista%20De%20Dados&location=Rio%20de%20Janeiro%2C%20Rio%20de%20Janeiro%2C%20Brasil&geoId=106701406&distance=0&f_TPR=&position=1&pageNum=0)\")\n",
    "    st.write(\"Link para uma inspiração visual (https://www.behance.net/gallery/198960873/Job-finder-dashboard?tracking_source=search_projects|job+dashboard&l=2)\")\n",
    "    st.write(\"Abaixo, segue um exemplo/amostra dos dados que serão coletados:\")\n",
    "\n",
    "    df = pd.read_csv('app\\data\\processed\\Exemplo_Amostra_Dados.csv')\n",
    "    st.dataframe(df)"
   ]
  },
  {
   "cell_type": "code",
   "execution_count": 51,
   "metadata": {},
   "outputs": [
    {
     "name": "stdout",
     "output_type": "stream",
     "text": [
      "Overwriting C:\\Users\\RodrigoPintoMesquita\\Documents\\GitHub\\PB_TP_X\\app\\streamlit\\utils.py\n"
     ]
    }
   ],
   "source": [
    "%%writefile 'C:\\Users\\RodrigoPintoMesquita\\Documents\\GitHub\\PB_TP_X\\app\\streamlit\\utils.py'\n",
    "\n",
    "import streamlit as st\n",
    "import pandas as pd\n",
    "\n",
    "@st.cache\n",
    "def import_df_vagas(path_vagas):\n",
    "    df_vagas = pd.read_csv(path_vagas)\n",
    "    return df_vagas\n",
    "\n",
    "def filtros_barra_lateral(lista_vagas: list, lista_nivel: list, lista_uf: list, lista_empresa: list):\n",
    "\n",
    "    '''Função que cria os filtros na barra lateral da aplicação\n",
    "        Args:\n",
    "            lista_vagas (list): Lista os perfis distintos das vagas\n",
    "    '''\n",
    "    #Inicializo as variáveis de sessão\n",
    "    if 'filtro_perfil' not in st.session_state:\n",
    "        st.session_state.filtro_perfil = 'Selecione'\n",
    "    \n",
    "    if 'filtro_nivel' not in st.session_state:\n",
    "        st.session_state.filtro_nivel = 'Selecione'\n",
    "    \n",
    "    if 'filtro_uf' not in st.session_state:\n",
    "        st.session_state.filtro_uf = 'Selecione'\n",
    "    \n",
    "    if 'filtro_empresa' not in st.session_state:\n",
    "        st.session_state.filtro_empresa = 'Selecione'\n",
    "\n",
    "    #Crio os Seletores\n",
    "    st.session_state.filtro_perfil = st.sidebar.selectbox('Filtrar Perfil da Vaga', lista_vagas, key='1')\n",
    "    st.session_state.filtro_nivel = st.sidebar.selectbox('Filtrar Nível da Vaga', lista_nivel, key='2')\n",
    "    st.session_state.filtro_uf = st.sidebar.selectbox('Filtrar Estado', lista_uf, key='3')\n",
    "    st.session_state.filtro_empresa = st.sidebar.selectbox('Filtrar Empresa', lista_empresa, key='4')"
   ]
  },
  {
   "cell_type": "markdown",
   "metadata": {},
   "source": [
    "# NÃO RODAR MAIS ESSES CÓDIGOS, ALTERAR DIRETO NO ARQUIVO PY"
   ]
  }
 ],
 "metadata": {
  "kernelspec": {
   "display_name": ".venv",
   "language": "python",
   "name": "python3"
  },
  "language_info": {
   "codemirror_mode": {
    "name": "ipython",
    "version": 3
   },
   "file_extension": ".py",
   "mimetype": "text/x-python",
   "name": "python",
   "nbconvert_exporter": "python",
   "pygments_lexer": "ipython3",
   "version": "3.12.4"
  }
 },
 "nbformat": 4,
 "nbformat_minor": 2
}
